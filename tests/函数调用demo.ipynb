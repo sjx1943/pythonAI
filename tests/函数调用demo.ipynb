{
 "cells": [
  {
   "cell_type": "markdown",
   "metadata": {},
   "source": [
    "#智谱函数调用工具设计及演示"
   ]
  },
  {
   "cell_type": "code",
   "execution_count": 3,
   "metadata": {},
   "outputs": [],
   "source": [
    "from zhipuai import ZhipuAI\n",
    "client = ZhipuAI(api_key=\"f91c87d6b19446c3a5f7452e99dd1c3f.rFUZxLlrv5Cq2p68\")\n",
    "\n",
    "tools = [\n",
    "    {\n",
    "        \"type\": \"function\",\n",
    "        \"function\": {\n",
    "            \"name\": \"get_flight_number\",\n",
    "            \"description\": \"根据始发地、目的地和日期查询对应日期的航班号\",\n",
    "            \"parameters\": {\n",
    "                \"type\": \"object\",\n",
    "                \"properties\": {\n",
    "                    \"departure\": {\n",
    "                        \"description\": \"始发地，例如北京、上海等\",\n",
    "                        \"type\": \"string\"\n",
    "                    },\n",
    "                    \"destination\": {\n",
    "                        \"description\": \"目的地，例如北京、上海等\",\n",
    "                        \"type\": \"string\"\n",
    "                    },\n",
    "                    \"date\": {\n",
    "                        \"description\": \"日期，例如2023-09-01\",\n",
    "                        \"type\": \"string\"\n",
    "                    }\n",
    "                },\n",
    "                \"required\": [\"departure\", \"destination\", \"date\"]\n",
    "            },\n",
    "\n",
    "        }\n",
    "\n",
    "    },{\n",
    "        \"type\": \"function\",\n",
    "        \"function\": {\n",
    "            \"name\": \"get_ticket_price\",\n",
    "                \"description\": \"查询某航班在某日的票价\",\n",
    "                \"parameters\": {\n",
    "                    \"type\": \"object\",\n",
    "                    \"properties\": {\n",
    "                        \"flight_number\": {\n",
    "                            \"description\": \"航班号，例如CZ1234\",\n",
    "                            \"type\": \"string\"\n",
    "                        },\n",
    "                        \"date\": {\n",
    "                            \"description\": \"日期，例如2023-09-01\",\n",
    "                            \"type\": \"string\"\n",
    "                        }\n",
    "                    },\n",
    "                    \"required\": [\"flight_number\", \"date\"]\n",
    "                },\n",
    "        }\n",
    "\n",
    "    },\n",
    "\n",
    "]"
   ]
  },
  {
   "cell_type": "code",
   "execution_count": 2,
   "metadata": {},
   "outputs": [
    {
     "name": "stdout",
     "output_type": "stream",
     "text": [
      "/Users/SJX/iCloud云盘（归档）/Desktop/python_program/python_learning/Fast_api/.venv/bin/python\n"
     ]
    }
   ],
   "source": [
    "import sys\n",
    "print(sys.executable)"
   ]
  },
  {
   "cell_type": "code",
   "execution_count": 4,
   "metadata": {},
   "outputs": [
    {
     "name": "stdout",
     "output_type": "stream",
     "text": [
      "CompletionMessage(content=None, role='assistant', tool_calls=[CompletionMessageToolCall(id='call_-8828726251220149191', function=Function(arguments='{\"date\":\"2022-01-01\",\"flight_number\":\"1234\"}', name='get_ticket_price'), type='function', index=0)])\n"
     ]
    }
   ],
   "source": [
    "messages.append({\"role\": \"system\", \"content\": \"不要假设或猜测传入函数的参数值。如果用户的描述不明确，请用户提供必要的信息。\"})\n",
    "messages.append({\"role\": \"user\", \"content\": \"查询1234航班的机票价格\"})\n",
    "response = client.chat.completions.create(\n",
    "    messages=messages,\n",
    "    model=\"glm-4\",\n",
    "    tools=tools,)\n",
    "print(response.choices[0].message)\n",
    "messages.append(response.choices[0].message.model_dump()) "
   ]
  },
  {
   "cell_type": "code",
   "execution_count": 5,
   "metadata": {},
   "outputs": [],
   "source": [
    "def get_flight_number(departure:str, destination:str, date:str):\n",
    "    # 模拟查询航班号的逻辑\n",
    "    flight_map = {\n",
    "        \"北京\": {\n",
    "            \"上海\": {\n",
    "                \"2023-09-01\": \"CZ1234\",\n",
    "                \"2023-09-02\": \"CZ1235\"\n",
    "            },\n",
    "            \"广州\": {\n",
    "                \"2023-09-01\": \"CZ1236\",\n",
    "                \"2023-09-02\": \"CZ1237\"\n",
    "            }\n",
    "        },\n",
    "        \"广州\": {\n",
    "            \"上海\"\n",
    "                \"2023-09-01\": \"CZ1238\",\n",
    "                \"2023-09-05\": \"CZ1239\"\n",
    "            }\n",
    "        }\n",
    "    try:\n",
    "        flight_number = flight_map[departure][destination][date]\n",
    "        return {\"flight_number\":flight_number}\n",
    "    except KeyError:\n",
    "        return {\"error\": \"没有找到对应的航班号，请检查输入的始发地、目的地和日期是否正确\"}\n",
    "\n",
    "def get_ticket_price(flight_number:str, date:str):\n",
    "    # 模拟查询票价的逻辑\n",
    "    price_map = {\n",
    "        \"CZ1234\": {\n",
    "            \"2023-09-01\": 1000,\n",
    "            \"2023-09-02\": 1100\n",
    "        },\n",
    "        \"CZ1235\": {\n",
    "            \"2023-09-01\": 1200,\n",
    "            \"2023-09-02\": 1300\n",
    "        },\n",
    "        \"CZ1236\": {\n",
    "            \"2023-09-01\": 900,\n",
    "            \"2023-09-02\": 1000\n",
    "        },\n",
    "        \"CZ1237\": {\n",
    "            \"2023-09-01\": 1100,\n",
    "            \"2023-09-02\": 1200\n",
    "        },\n",
    "        \"CZ1238\": {\n",
    "            \"2023-09-01\": 1300,\n",
    "            \"2023-09-02\": 1400\n",
    "        },\n",
    "        \"CZ1239\": {\n",
    "            \"2023-09-01\": 1500,\n",
    "            \"2023-09-05\": 1600\n",
    "        }\n",
    "    }\n",
    "    try:\n",
    "        price = price_map[flight_number][date]\n",
    "        return {\"price\":price}\n",
    "    except KeyError:\n",
    "        return {\"error\": \"抱歉，暂无法查询您需要的航班票价信息，请稍后再试。\"}\n",
    "\n",
    "\n",
    "def parse_response(model_response,messages):\n",
    "    # 第一步处理函数调用结果，根据模型返回参数，调用对应函数\n",
    "    # 第二步调用函数返回结果构造tool消息，再次调用模型，将函数函数结果输入模型\n",
    "    # 第三步模型将函数调用结果以自然语言的形式返回给用户\n",
    "\n",
    "    if model_response.choices[0].message.tool_calls:\n",
    "        tool_call = model_response.choices[0].message.tool_calls[0]\n",
    "        function_args = tool_call.function.arguments\n",
    "        function_result = {}\n",
    "        if tool_call.function.name == \"get_flight_number\":\n",
    "            function_result = get_flight_number(**json.loads(function_args))\n",
    "        if tool_call.function.name == \"get_ticket_price\":\n",
    "            function_result = get_ticket_price(**json.loads(function_args)) \n",
    "        messages.append({\"role\": \"tool\",\n",
    "                         \"content\": f\"{json.dumps(function_result)}\",\n",
    "                         \"tool_call_id\": tool_call.id\n",
    "                         })\n",
    "        response = client.chat.completions.create(\n",
    "            messages=messages,\n",
    "            model=\"glm-4\",\n",
    "            tools=tools,\n",
    "        )\n",
    "        print(response.choices[0].message)\n",
    "        messages.append(response.choices[0].message.model_dump())  # 7. 保存响应到对话历史"
   ]
  },
  {
   "cell_type": "code",
   "execution_count": 31,
   "metadata": {},
   "outputs": [],
   "source": [
    "messages=[]"
   ]
  },
  {
   "cell_type": "code",
   "execution_count": 36,
   "metadata": {},
   "outputs": [
    {
     "name": "stdout",
     "output_type": "stream",
     "text": [
      "CompletionMessage(content=None, role='assistant', tool_calls=[CompletionMessageToolCall(id='call_-8828723605519702510', function=Function(arguments='{\"date\":\"2023-09-01\",\"departure\":\"北京\",\"destination\":\"上海\"}', name='get_flight_number'), type='function', index=0)])\n"
     ]
    }
   ],
   "source": [
    "messages.append({\"role\": \"system\", \"content\": \"不要假设或猜测传入函数的参数值。如果用户的描述不明确，请用户提供必要的信息。\"})\n",
    "messages.append({\"role\": \"user\", \"content\": \"查询2023年9月1日北京到上海的航班\"})\n",
    "response = client.chat.completions.create(\n",
    "    messages=messages,\n",
    "    model=\"glm-4\",\n",
    "    tools=tools,)\n",
    "print(response.choices[0].message)\n",
    "messages.append(response.choices[0].message.model_dump())"
   ]
  },
  {
   "cell_type": "code",
   "execution_count": 14,
   "metadata": {},
   "outputs": [],
   "source": [
    "import json"
   ]
  },
  {
   "cell_type": "code",
   "execution_count": 33,
   "metadata": {},
   "outputs": [
    {
     "name": "stdout",
     "output_type": "stream",
     "text": [
      "CompletionMessage(content='根据您的查询，2023年9月1日从北京到上海的航班号是CZ1234。', role='assistant', tool_calls=None)\n"
     ]
    }
   ],
   "source": [
    "parse_response(response,messages)"
   ]
  },
  {
   "cell_type": "code",
   "execution_count": 34,
   "metadata": {},
   "outputs": [
    {
     "name": "stdout",
     "output_type": "stream",
     "text": [
      "CompletionMessage(content='2023年9月1日北京到上海的航班CZ1234的票价是1000元。', role='assistant', tool_calls=None)\n"
     ]
    }
   ],
   "source": [
    "messages.append({\"role\": \"user\", \"content\": \"这趟航班的价格是多少？\"})\n",
    "response = client.chat.completions.create(\n",
    "    messages=messages,\n",
    "    model=\"glm-4\",\n",
    "    tools=tools,)\n",
    "messages.append(response.choices[0].message.model_dump())\n",
    "parse_response(response,messages)"
   ]
  },
  {
   "cell_type": "code",
   "execution_count": 35,
   "metadata": {},
   "outputs": [
    {
     "name": "stdout",
     "output_type": "stream",
     "text": [
      "CompletionMessage(content='2023年9月2日北京到上海的航班CZ1234的票价是1100元。', role='assistant', tool_calls=None)\n"
     ]
    }
   ],
   "source": [
    "messages.append({\"role\": \"user\", \"content\": \"第二天同一趟航班的价格是多少？\"})\n",
    "response = client.chat.completions.create(\n",
    "    messages=messages,\n",
    "    model=\"glm-4\",\n",
    "    tools=tools,)\n",
    "messages.append(response.choices[0].message.model_dump())\n",
    "parse_response(response,messages)"
   ]
  },
  {
   "cell_type": "code",
   "execution_count": null,
   "metadata": {},
   "outputs": [],
   "source": []
  }
 ],
 "metadata": {
  "kernelspec": {
   "display_name": "Python (.venv)",
   "language": "python",
   "name": ".venv"
  },
  "language_info": {
   "codemirror_mode": {
    "name": "ipython",
    "version": 3
   },
   "file_extension": ".py",
   "mimetype": "text/x-python",
   "name": "python",
   "nbconvert_exporter": "python",
   "pygments_lexer": "ipython3",
   "version": "3.12.1"
  },
  "toc": {
   "base_numbering": 1,
   "nav_menu": {},
   "number_sections": true,
   "sideBar": true,
   "skip_h1_title": false,
   "title_cell": "Table of Contents",
   "title_sidebar": "Contents",
   "toc_cell": false,
   "toc_position": {},
   "toc_section_display": true,
   "toc_window_display": false
  }
 },
 "nbformat": 4,
 "nbformat_minor": 4
}
